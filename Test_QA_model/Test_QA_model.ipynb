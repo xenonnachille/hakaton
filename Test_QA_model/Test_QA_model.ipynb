{
 "cells": [
  {
   "cell_type": "code",
   "execution_count": 12,
   "id": "ef73993a-0913-437e-8289-6dede6c179d8",
   "metadata": {},
   "outputs": [],
   "source": [
    "from datasets import load_dataset\n",
    "import torch\n",
    "from torch.utils.data import Dataset, DataLoader\n",
    "from torchmetrics import F1Score, Precision\n",
    "from transformers import MT5ForConditionalGeneration, MT5Tokenizer\n",
    "from transformers import BertTokenizer, BertForSequenceClassification\n",
    "from peft import get_peft_model, LoraConfig, TaskType\n",
    "import pytorch_lightning as pl\n",
    "import tqdm\n",
    "from torch.nn import functional as F\n",
    "from pytorch_lightning.loggers import TensorBoardLogger\n",
    "from torch.nn.utils.rnn import pad_sequence\n",
    "from huggingface_hub.hf_api import HfFolder\n",
    "from pytorch_lightning.callbacks import ModelCheckpoint\n",
    "from random import shuffle\n",
    "from .config import secret_key\n",
    "HfFolder.save_token(secret_key)"
   ]
  },
  {
   "cell_type": "code",
   "execution_count": 7,
   "id": "a80fc38f-0ae4-459e-a082-5be98659525b",
   "metadata": {},
   "outputs": [],
   "source": [
    "import logging\n",
    "logging.disable(logging.WARNING)"
   ]
  },
  {
   "cell_type": "code",
   "execution_count": 8,
   "id": "c908a3fe-3201-4e78-bd1f-75e9b2b7d81c",
   "metadata": {},
   "outputs": [],
   "source": [
    "import warnings\n",
    "warnings.filterwarnings('ignore')"
   ]
  },
  {
   "cell_type": "code",
   "execution_count": 9,
   "id": "1689e70e-8794-486e-93fd-462edf917411",
   "metadata": {},
   "outputs": [],
   "source": [
    "miracl_ru = load_dataset('miracl/miracl', 'ru')"
   ]
  },
  {
   "cell_type": "code",
   "execution_count": 2,
   "id": "b17043da-9bfe-4e4d-b0e5-4a7bbb6041e9",
   "metadata": {
    "scrolled": true
   },
   "outputs": [
    {
     "data": {
      "application/vnd.jupyter.widget-view+json": {
       "model_id": "dcfeb7e8d52940a9aad4573c7b200a35",
       "version_major": 2,
       "version_minor": 0
      },
      "text/plain": [
       "Generating dev split: 0 examples [00:00, ? examples/s]"
      ]
     },
     "metadata": {},
     "output_type": "display_data"
    },
    {
     "data": {
      "application/vnd.jupyter.widget-view+json": {
       "model_id": "2bbf7fab99194ef4ba52d8d36a5f7d76",
       "version_major": 2,
       "version_minor": 0
      },
      "text/plain": [
       "Loading dataset shards:   0%|          | 0/28 [00:00<?, ?it/s]"
      ]
     },
     "metadata": {},
     "output_type": "display_data"
    },
    {
     "data": {
      "application/vnd.jupyter.widget-view+json": {
       "model_id": "fb30bd8c9ca146dc8054a4ad14812231",
       "version_major": 2,
       "version_minor": 0
      },
      "text/plain": [
       "Generating testB split: 0 examples [00:00, ? examples/s]"
      ]
     },
     "metadata": {},
     "output_type": "display_data"
    },
    {
     "data": {
      "application/vnd.jupyter.widget-view+json": {
       "model_id": "e8f4c15996cf4ee09537cd8c29f9312d",
       "version_major": 2,
       "version_minor": 0
      },
      "text/plain": [
       "Loading dataset shards:   0%|          | 0/28 [00:00<?, ?it/s]"
      ]
     },
     "metadata": {},
     "output_type": "display_data"
    },
    {
     "data": {
      "application/vnd.jupyter.widget-view+json": {
       "model_id": "a6cd569ce04442d3bfb6054286fe1515",
       "version_major": 2,
       "version_minor": 0
      },
      "text/plain": [
       "Generating train split: 0 examples [00:00, ? examples/s]"
      ]
     },
     "metadata": {},
     "output_type": "display_data"
    },
    {
     "data": {
      "application/vnd.jupyter.widget-view+json": {
       "model_id": "ae1e76914b15437d806952d3b755506d",
       "version_major": 2,
       "version_minor": 0
      },
      "text/plain": [
       "Loading dataset shards:   0%|          | 0/28 [00:00<?, ?it/s]"
      ]
     },
     "metadata": {},
     "output_type": "display_data"
    },
    {
     "data": {
      "application/vnd.jupyter.widget-view+json": {
       "model_id": "dd87ff06e3a64a899bbfc24b92447ade",
       "version_major": 2,
       "version_minor": 0
      },
      "text/plain": [
       "Generating testA split: 0 examples [00:00, ? examples/s]"
      ]
     },
     "metadata": {},
     "output_type": "display_data"
    },
    {
     "data": {
      "application/vnd.jupyter.widget-view+json": {
       "model_id": "706a5c3fb74d49b79e730ad6a25d8d56",
       "version_major": 2,
       "version_minor": 0
      },
      "text/plain": [
       "Loading dataset shards:   0%|          | 0/28 [00:00<?, ?it/s]"
      ]
     },
     "metadata": {},
     "output_type": "display_data"
    }
   ],
   "source": [
    "miracl_en = load_dataset('miracl/miracl', 'en')"
   ]
  },
  {
   "cell_type": "code",
   "execution_count": 3,
   "id": "f4533a7c-9f3d-465e-a8c1-c54f9a134adb",
   "metadata": {
    "scrolled": true
   },
   "outputs": [
    {
     "data": {
      "application/vnd.jupyter.widget-view+json": {
       "model_id": "f7190c8b6c824204ae0cd48ac7213b52",
       "version_major": 2,
       "version_minor": 0
      },
      "text/plain": [
       "(…)-id/topics/topics.miracl-v1.0-id-dev.tsv:   0%|          | 0.00/42.0k [00:00<?, ?B/s]"
      ]
     },
     "metadata": {},
     "output_type": "display_data"
    },
    {
     "data": {
      "application/vnd.jupyter.widget-view+json": {
       "model_id": "dd1a26d90ce747f99b2568c3b869b5a6",
       "version_major": 2,
       "version_minor": 0
      },
      "text/plain": [
       "(…).0-id/qrels/qrels.miracl-v1.0-id-dev.tsv:   0%|          | 0.00/177k [00:00<?, ?B/s]"
      ]
     },
     "metadata": {},
     "output_type": "display_data"
    },
    {
     "data": {
      "application/vnd.jupyter.widget-view+json": {
       "model_id": "2808057e39a24ed19c8c4ae0782abb1d",
       "version_major": 2,
       "version_minor": 0
      },
      "text/plain": [
       "(…)/topics/topics.miracl-v1.0-id-test-b.tsv:   0%|          | 0.00/24.8k [00:00<?, ?B/s]"
      ]
     },
     "metadata": {},
     "output_type": "display_data"
    },
    {
     "data": {
      "application/vnd.jupyter.widget-view+json": {
       "model_id": "a3246cf96e404709b804daae54b0462c",
       "version_major": 2,
       "version_minor": 0
      },
      "text/plain": [
       "(…)d/topics/topics.miracl-v1.0-id-train.tsv:   0%|          | 0.00/175k [00:00<?, ?B/s]"
      ]
     },
     "metadata": {},
     "output_type": "display_data"
    },
    {
     "data": {
      "application/vnd.jupyter.widget-view+json": {
       "model_id": "20a5af56279349e0b205d419917f60c0",
       "version_major": 2,
       "version_minor": 0
      },
      "text/plain": [
       "(…)-id/qrels/qrels.miracl-v1.0-id-train.tsv:   0%|          | 0.00/758k [00:00<?, ?B/s]"
      ]
     },
     "metadata": {},
     "output_type": "display_data"
    },
    {
     "data": {
      "application/vnd.jupyter.widget-view+json": {
       "model_id": "63f884a0ef8e40358afedd4ad9e1b936",
       "version_major": 2,
       "version_minor": 0
      },
      "text/plain": [
       "(…)/topics/topics.miracl-v1.0-id-test-a.tsv:   0%|          | 0.00/33.8k [00:00<?, ?B/s]"
      ]
     },
     "metadata": {},
     "output_type": "display_data"
    },
    {
     "data": {
      "application/vnd.jupyter.widget-view+json": {
       "model_id": "e8977e329638447ab023e2016ceff152",
       "version_major": 2,
       "version_minor": 0
      },
      "text/plain": [
       "Generating dev split: 0 examples [00:00, ? examples/s]"
      ]
     },
     "metadata": {},
     "output_type": "display_data"
    },
    {
     "data": {
      "application/vnd.jupyter.widget-view+json": {
       "model_id": "76692c96b86748169c48c716ec6ded08",
       "version_major": 2,
       "version_minor": 0
      },
      "text/plain": [
       "docs-0.jsonl.gz:   0%|          | 0.00/68.5M [00:00<?, ?B/s]"
      ]
     },
     "metadata": {},
     "output_type": "display_data"
    },
    {
     "data": {
      "application/vnd.jupyter.widget-view+json": {
       "model_id": "c12f3e942dae431f982376a20865a1ab",
       "version_major": 2,
       "version_minor": 0
      },
      "text/plain": [
       "docs-1.jsonl.gz:   0%|          | 0.00/39.7M [00:00<?, ?B/s]"
      ]
     },
     "metadata": {},
     "output_type": "display_data"
    },
    {
     "data": {
      "application/vnd.jupyter.widget-view+json": {
       "model_id": "fc2cfc5e472e49d2a7a00869fdb83f19",
       "version_major": 2,
       "version_minor": 0
      },
      "text/plain": [
       "docs-2.jsonl.gz:   0%|          | 0.00/61.4M [00:00<?, ?B/s]"
      ]
     },
     "metadata": {},
     "output_type": "display_data"
    },
    {
     "data": {
      "application/vnd.jupyter.widget-view+json": {
       "model_id": "d5e9964c65634781958d9b5685a689dc",
       "version_major": 2,
       "version_minor": 0
      },
      "text/plain": [
       "Generating train split: 0 examples [00:00, ? examples/s]"
      ]
     },
     "metadata": {},
     "output_type": "display_data"
    },
    {
     "data": {
      "application/vnd.jupyter.widget-view+json": {
       "model_id": "d0108e32e56c40498f1924bb5ae04b4d",
       "version_major": 2,
       "version_minor": 0
      },
      "text/plain": [
       "Generating testB split: 0 examples [00:00, ? examples/s]"
      ]
     },
     "metadata": {},
     "output_type": "display_data"
    },
    {
     "data": {
      "application/vnd.jupyter.widget-view+json": {
       "model_id": "5127b99b38584480800496c8989e33fa",
       "version_major": 2,
       "version_minor": 0
      },
      "text/plain": [
       "Generating train split: 0 examples [00:00, ? examples/s]"
      ]
     },
     "metadata": {},
     "output_type": "display_data"
    },
    {
     "data": {
      "application/vnd.jupyter.widget-view+json": {
       "model_id": "bfea6140f94a4286a69f9f1941b3e515",
       "version_major": 2,
       "version_minor": 0
      },
      "text/plain": [
       "Generating testA split: 0 examples [00:00, ? examples/s]"
      ]
     },
     "metadata": {},
     "output_type": "display_data"
    }
   ],
   "source": [
    "miracl_id = load_dataset('miracl/miracl', 'id')"
   ]
  },
  {
   "cell_type": "code",
   "execution_count": 4,
   "id": "82d5d3d9-36a9-456f-84e7-9d631bb03f8d",
   "metadata": {
    "scrolled": true
   },
   "outputs": [
    {
     "data": {
      "application/vnd.jupyter.widget-view+json": {
       "model_id": "244c06dc2ae14491ad49f093953b8e97",
       "version_major": 2,
       "version_minor": 0
      },
      "text/plain": [
       "(…)-es/topics/topics.miracl-v1.0-es-dev.tsv:   0%|          | 0.00/39.6k [00:00<?, ?B/s]"
      ]
     },
     "metadata": {},
     "output_type": "display_data"
    },
    {
     "data": {
      "application/vnd.jupyter.widget-view+json": {
       "model_id": "b3b77b83390b4b4ab9970d79bcfc0139",
       "version_major": 2,
       "version_minor": 0
      },
      "text/plain": [
       "(…).0-es/qrels/qrels.miracl-v1.0-es-dev.tsv:   0%|          | 0.00/158k [00:00<?, ?B/s]"
      ]
     },
     "metadata": {},
     "output_type": "display_data"
    },
    {
     "data": {
      "application/vnd.jupyter.widget-view+json": {
       "model_id": "a3217111859240cba2fe09204d650e78",
       "version_major": 2,
       "version_minor": 0
      },
      "text/plain": [
       "(…)/topics/topics.miracl-v1.0-es-test-b.tsv:   0%|          | 0.00/92.4k [00:00<?, ?B/s]"
      ]
     },
     "metadata": {},
     "output_type": "display_data"
    },
    {
     "data": {
      "application/vnd.jupyter.widget-view+json": {
       "model_id": "7f2758e5a3a64f2098c273823a26cd07",
       "version_major": 2,
       "version_minor": 0
      },
      "text/plain": [
       "(…)s/topics/topics.miracl-v1.0-es-train.tsv:   0%|          | 0.00/131k [00:00<?, ?B/s]"
      ]
     },
     "metadata": {},
     "output_type": "display_data"
    },
    {
     "data": {
      "application/vnd.jupyter.widget-view+json": {
       "model_id": "363a1b213bb14ec8883672163eac402d",
       "version_major": 2,
       "version_minor": 0
      },
      "text/plain": [
       "(…)-es/qrels/qrels.miracl-v1.0-es-train.tsv:   0%|          | 0.00/526k [00:00<?, ?B/s]"
      ]
     },
     "metadata": {},
     "output_type": "display_data"
    },
    {
     "data": {
      "application/vnd.jupyter.widget-view+json": {
       "model_id": "81daa0e5dee7445b953203c8c99f5762",
       "version_major": 2,
       "version_minor": 0
      },
      "text/plain": [
       "Generating dev split: 0 examples [00:00, ? examples/s]"
      ]
     },
     "metadata": {},
     "output_type": "display_data"
    },
    {
     "data": {
      "application/vnd.jupyter.widget-view+json": {
       "model_id": "f5fe4e1ad7934e6d888068cf20fefd6e",
       "version_major": 2,
       "version_minor": 0
      },
      "text/plain": [
       "Downloading data:   0%|          | 0/21 [00:00<?, ?files/s]"
      ]
     },
     "metadata": {},
     "output_type": "display_data"
    },
    {
     "data": {
      "application/vnd.jupyter.widget-view+json": {
       "model_id": "10c2097f111a42b4b33e3394c911b492",
       "version_major": 2,
       "version_minor": 0
      },
      "text/plain": [
       "docs-0.jsonl.gz:   0%|          | 0.00/92.9M [00:00<?, ?B/s]"
      ]
     },
     "metadata": {},
     "output_type": "display_data"
    },
    {
     "data": {
      "application/vnd.jupyter.widget-view+json": {
       "model_id": "5777c951a12546ffaaa72bb69ec286c9",
       "version_major": 2,
       "version_minor": 0
      },
      "text/plain": [
       "docs-1.jsonl.gz:   0%|          | 0.00/89.6M [00:00<?, ?B/s]"
      ]
     },
     "metadata": {},
     "output_type": "display_data"
    },
    {
     "data": {
      "application/vnd.jupyter.widget-view+json": {
       "model_id": "a1a95454a6d64a60b9ba6fec1440007b",
       "version_major": 2,
       "version_minor": 0
      },
      "text/plain": [
       "docs-2.jsonl.gz:   0%|          | 0.00/85.4M [00:00<?, ?B/s]"
      ]
     },
     "metadata": {},
     "output_type": "display_data"
    },
    {
     "data": {
      "application/vnd.jupyter.widget-view+json": {
       "model_id": "192ecfc4b5274351a0c6bbbf59f6596f",
       "version_major": 2,
       "version_minor": 0
      },
      "text/plain": [
       "docs-3.jsonl.gz:   0%|          | 0.00/83.3M [00:00<?, ?B/s]"
      ]
     },
     "metadata": {},
     "output_type": "display_data"
    },
    {
     "data": {
      "application/vnd.jupyter.widget-view+json": {
       "model_id": "787ae2f51b674e5b96cd026f3217b6f3",
       "version_major": 2,
       "version_minor": 0
      },
      "text/plain": [
       "docs-4.jsonl.gz:   0%|          | 0.00/80.8M [00:00<?, ?B/s]"
      ]
     },
     "metadata": {},
     "output_type": "display_data"
    },
    {
     "data": {
      "application/vnd.jupyter.widget-view+json": {
       "model_id": "665fb0317a8a41e2a944db6bdfdefcf4",
       "version_major": 2,
       "version_minor": 0
      },
      "text/plain": [
       "docs-5.jsonl.gz:   0%|          | 0.00/79.4M [00:00<?, ?B/s]"
      ]
     },
     "metadata": {},
     "output_type": "display_data"
    },
    {
     "data": {
      "application/vnd.jupyter.widget-view+json": {
       "model_id": "1d778e54b1434c3baff37cd337d04977",
       "version_major": 2,
       "version_minor": 0
      },
      "text/plain": [
       "docs-6.jsonl.gz:   0%|          | 0.00/79.2M [00:00<?, ?B/s]"
      ]
     },
     "metadata": {},
     "output_type": "display_data"
    },
    {
     "data": {
      "application/vnd.jupyter.widget-view+json": {
       "model_id": "77e6b4286c86428f8fcf1e43e810830f",
       "version_major": 2,
       "version_minor": 0
      },
      "text/plain": [
       "docs-7.jsonl.gz:   0%|          | 0.00/78.5M [00:00<?, ?B/s]"
      ]
     },
     "metadata": {},
     "output_type": "display_data"
    },
    {
     "data": {
      "application/vnd.jupyter.widget-view+json": {
       "model_id": "2d1c6c7d9a8148b1b1fcfe2b9022b2a2",
       "version_major": 2,
       "version_minor": 0
      },
      "text/plain": [
       "docs-8.jsonl.gz:   0%|          | 0.00/77.6M [00:00<?, ?B/s]"
      ]
     },
     "metadata": {},
     "output_type": "display_data"
    },
    {
     "data": {
      "application/vnd.jupyter.widget-view+json": {
       "model_id": "d62172ac6c8e45a9a404b0f12d1711aa",
       "version_major": 2,
       "version_minor": 0
      },
      "text/plain": [
       "docs-9.jsonl.gz:   0%|          | 0.00/66.3M [00:00<?, ?B/s]"
      ]
     },
     "metadata": {},
     "output_type": "display_data"
    },
    {
     "data": {
      "application/vnd.jupyter.widget-view+json": {
       "model_id": "8a45fdf241b340f4bf2060ca9f13200a",
       "version_major": 2,
       "version_minor": 0
      },
      "text/plain": [
       "docs-10.jsonl.gz:   0%|          | 0.00/62.6M [00:00<?, ?B/s]"
      ]
     },
     "metadata": {},
     "output_type": "display_data"
    },
    {
     "data": {
      "application/vnd.jupyter.widget-view+json": {
       "model_id": "f960c905b47e4054b9665fabb5e618e6",
       "version_major": 2,
       "version_minor": 0
      },
      "text/plain": [
       "docs-11.jsonl.gz:   0%|          | 0.00/65.7M [00:00<?, ?B/s]"
      ]
     },
     "metadata": {},
     "output_type": "display_data"
    },
    {
     "data": {
      "application/vnd.jupyter.widget-view+json": {
       "model_id": "105b2a1fe4984842902d170a766bb6f3",
       "version_major": 2,
       "version_minor": 0
      },
      "text/plain": [
       "docs-12.jsonl.gz:   0%|          | 0.00/72.6M [00:00<?, ?B/s]"
      ]
     },
     "metadata": {},
     "output_type": "display_data"
    },
    {
     "data": {
      "application/vnd.jupyter.widget-view+json": {
       "model_id": "24b0e930678c4c4e9c3398e026862acf",
       "version_major": 2,
       "version_minor": 0
      },
      "text/plain": [
       "docs-13.jsonl.gz:   0%|          | 0.00/75.5M [00:00<?, ?B/s]"
      ]
     },
     "metadata": {},
     "output_type": "display_data"
    },
    {
     "data": {
      "application/vnd.jupyter.widget-view+json": {
       "model_id": "e944fbbc275448d3a5303e83ace7cfff",
       "version_major": 2,
       "version_minor": 0
      },
      "text/plain": [
       "docs-14.jsonl.gz:   0%|          | 0.00/76.5M [00:00<?, ?B/s]"
      ]
     },
     "metadata": {},
     "output_type": "display_data"
    },
    {
     "data": {
      "application/vnd.jupyter.widget-view+json": {
       "model_id": "493060e4bb5642fb9a7be3af927880ee",
       "version_major": 2,
       "version_minor": 0
      },
      "text/plain": [
       "docs-15.jsonl.gz:   0%|          | 0.00/73.0M [00:00<?, ?B/s]"
      ]
     },
     "metadata": {},
     "output_type": "display_data"
    },
    {
     "data": {
      "application/vnd.jupyter.widget-view+json": {
       "model_id": "a474e3e1d9874cc8b727c22a83749536",
       "version_major": 2,
       "version_minor": 0
      },
      "text/plain": [
       "docs-16.jsonl.gz:   0%|          | 0.00/74.2M [00:00<?, ?B/s]"
      ]
     },
     "metadata": {},
     "output_type": "display_data"
    },
    {
     "data": {
      "application/vnd.jupyter.widget-view+json": {
       "model_id": "903cdbec15e74246b9852e9944bbea97",
       "version_major": 2,
       "version_minor": 0
      },
      "text/plain": [
       "docs-17.jsonl.gz:   0%|          | 0.00/67.1M [00:00<?, ?B/s]"
      ]
     },
     "metadata": {},
     "output_type": "display_data"
    },
    {
     "data": {
      "application/vnd.jupyter.widget-view+json": {
       "model_id": "cdc24c252741400bb5403d9b98acfa92",
       "version_major": 2,
       "version_minor": 0
      },
      "text/plain": [
       "docs-18.jsonl.gz:   0%|          | 0.00/77.9M [00:00<?, ?B/s]"
      ]
     },
     "metadata": {},
     "output_type": "display_data"
    },
    {
     "data": {
      "application/vnd.jupyter.widget-view+json": {
       "model_id": "807358658daf4a6cab0dac4978a758da",
       "version_major": 2,
       "version_minor": 0
      },
      "text/plain": [
       "docs-19.jsonl.gz:   0%|          | 0.00/79.9M [00:00<?, ?B/s]"
      ]
     },
     "metadata": {},
     "output_type": "display_data"
    },
    {
     "data": {
      "application/vnd.jupyter.widget-view+json": {
       "model_id": "17858ebab2694d89998a488b110e5a1e",
       "version_major": 2,
       "version_minor": 0
      },
      "text/plain": [
       "docs-20.jsonl.gz:   0%|          | 0.00/57.2M [00:00<?, ?B/s]"
      ]
     },
     "metadata": {},
     "output_type": "display_data"
    },
    {
     "data": {
      "application/vnd.jupyter.widget-view+json": {
       "model_id": "ad437b1507fe46e8ba7f2a526756138e",
       "version_major": 2,
       "version_minor": 0
      },
      "text/plain": [
       "Generating train split: 0 examples [00:00, ? examples/s]"
      ]
     },
     "metadata": {},
     "output_type": "display_data"
    },
    {
     "data": {
      "application/vnd.jupyter.widget-view+json": {
       "model_id": "1530e4ddb5ce47b6a2935d6d8c564033",
       "version_major": 2,
       "version_minor": 0
      },
      "text/plain": [
       "Generating testB split: 0 examples [00:00, ? examples/s]"
      ]
     },
     "metadata": {},
     "output_type": "display_data"
    },
    {
     "data": {
      "application/vnd.jupyter.widget-view+json": {
       "model_id": "71e12dcef2f449389d82de3fc9b1dcea",
       "version_major": 2,
       "version_minor": 0
      },
      "text/plain": [
       "Generating train split: 0 examples [00:00, ? examples/s]"
      ]
     },
     "metadata": {},
     "output_type": "display_data"
    }
   ],
   "source": [
    "miracl_es = load_dataset('miracl/miracl', 'es')"
   ]
  },
  {
   "cell_type": "code",
   "execution_count": 5,
   "id": "4fac53ac-1315-4447-a078-c2ca5760d877",
   "metadata": {},
   "outputs": [
    {
     "data": {
      "application/vnd.jupyter.widget-view+json": {
       "model_id": "76635ac5a8e346d4bf4517d85fd623c2",
       "version_major": 2,
       "version_minor": 0
      },
      "text/plain": [
       "(…)-fi/topics/topics.miracl-v1.0-fi-dev.tsv:   0%|          | 0.00/58.1k [00:00<?, ?B/s]"
      ]
     },
     "metadata": {},
     "output_type": "display_data"
    },
    {
     "data": {
      "application/vnd.jupyter.widget-view+json": {
       "model_id": "beaf23bec581467794b25fcc563ee67b",
       "version_major": 2,
       "version_minor": 0
      },
      "text/plain": [
       "(…).0-fi/qrels/qrels.miracl-v1.0-fi-dev.tsv:   0%|          | 0.00/226k [00:00<?, ?B/s]"
      ]
     },
     "metadata": {},
     "output_type": "display_data"
    },
    {
     "data": {
      "application/vnd.jupyter.widget-view+json": {
       "model_id": "917c7ec317ba461480d2df15b3118a84",
       "version_major": 2,
       "version_minor": 0
      },
      "text/plain": [
       "(…)/topics/topics.miracl-v1.0-fi-test-b.tsv:   0%|          | 0.00/33.5k [00:00<?, ?B/s]"
      ]
     },
     "metadata": {},
     "output_type": "display_data"
    },
    {
     "data": {
      "application/vnd.jupyter.widget-view+json": {
       "model_id": "5c5968ae415241ddaec3661dc9d6fcf7",
       "version_major": 2,
       "version_minor": 0
      },
      "text/plain": [
       "(…)i/topics/topics.miracl-v1.0-fi-train.tsv:   0%|          | 0.00/130k [00:00<?, ?B/s]"
      ]
     },
     "metadata": {},
     "output_type": "display_data"
    },
    {
     "data": {
      "application/vnd.jupyter.widget-view+json": {
       "model_id": "fd880e55e324497ea71981d3a09a7eae",
       "version_major": 2,
       "version_minor": 0
      },
      "text/plain": [
       "(…)-fi/qrels/qrels.miracl-v1.0-fi-train.tsv:   0%|          | 0.00/382k [00:00<?, ?B/s]"
      ]
     },
     "metadata": {},
     "output_type": "display_data"
    },
    {
     "data": {
      "application/vnd.jupyter.widget-view+json": {
       "model_id": "cb1e7d19c7b44bac8d935a0b182aa449",
       "version_major": 2,
       "version_minor": 0
      },
      "text/plain": [
       "(…)/topics/topics.miracl-v1.0-fi-test-a.tsv:   0%|          | 0.00/47.9k [00:00<?, ?B/s]"
      ]
     },
     "metadata": {},
     "output_type": "display_data"
    },
    {
     "data": {
      "application/vnd.jupyter.widget-view+json": {
       "model_id": "05ae9fbc5e154ebc835bd147c16e9f2f",
       "version_major": 2,
       "version_minor": 0
      },
      "text/plain": [
       "Generating dev split: 0 examples [00:00, ? examples/s]"
      ]
     },
     "metadata": {},
     "output_type": "display_data"
    },
    {
     "data": {
      "application/vnd.jupyter.widget-view+json": {
       "model_id": "17cc2ded9dee4266a767318e63a19a63",
       "version_major": 2,
       "version_minor": 0
      },
      "text/plain": [
       "docs-0.jsonl.gz:   0%|          | 0.00/79.7M [00:00<?, ?B/s]"
      ]
     },
     "metadata": {},
     "output_type": "display_data"
    },
    {
     "data": {
      "application/vnd.jupyter.widget-view+json": {
       "model_id": "7e5f814dda5b425e905a76495820805b",
       "version_major": 2,
       "version_minor": 0
      },
      "text/plain": [
       "docs-1.jsonl.gz:   0%|          | 0.00/71.2M [00:00<?, ?B/s]"
      ]
     },
     "metadata": {},
     "output_type": "display_data"
    },
    {
     "data": {
      "application/vnd.jupyter.widget-view+json": {
       "model_id": "81e1340ab38d4d628fee53a5acee264e",
       "version_major": 2,
       "version_minor": 0
      },
      "text/plain": [
       "docs-2.jsonl.gz:   0%|          | 0.00/68.0M [00:00<?, ?B/s]"
      ]
     },
     "metadata": {},
     "output_type": "display_data"
    },
    {
     "data": {
      "application/vnd.jupyter.widget-view+json": {
       "model_id": "a7c67f85b49642108887d90d0025079a",
       "version_major": 2,
       "version_minor": 0
      },
      "text/plain": [
       "docs-3.jsonl.gz:   0%|          | 0.00/51.1M [00:00<?, ?B/s]"
      ]
     },
     "metadata": {},
     "output_type": "display_data"
    },
    {
     "data": {
      "application/vnd.jupyter.widget-view+json": {
       "model_id": "1c143c6c2a8d4cd590f2aeb3c3be659e",
       "version_major": 2,
       "version_minor": 0
      },
      "text/plain": [
       "Generating train split: 0 examples [00:00, ? examples/s]"
      ]
     },
     "metadata": {},
     "output_type": "display_data"
    },
    {
     "data": {
      "application/vnd.jupyter.widget-view+json": {
       "model_id": "3ea749bbf2af49009da138081639b8d1",
       "version_major": 2,
       "version_minor": 0
      },
      "text/plain": [
       "Generating testB split: 0 examples [00:00, ? examples/s]"
      ]
     },
     "metadata": {},
     "output_type": "display_data"
    },
    {
     "data": {
      "application/vnd.jupyter.widget-view+json": {
       "model_id": "0e95a6cfcccc412fb4960ea7b9634f40",
       "version_major": 2,
       "version_minor": 0
      },
      "text/plain": [
       "Generating train split: 0 examples [00:00, ? examples/s]"
      ]
     },
     "metadata": {},
     "output_type": "display_data"
    },
    {
     "data": {
      "application/vnd.jupyter.widget-view+json": {
       "model_id": "79225b98871d4ea6a992764fd4cdf783",
       "version_major": 2,
       "version_minor": 0
      },
      "text/plain": [
       "Generating testA split: 0 examples [00:00, ? examples/s]"
      ]
     },
     "metadata": {},
     "output_type": "display_data"
    }
   ],
   "source": [
    "miracl_fi = load_dataset('miracl/miracl', 'fi')"
   ]
  },
  {
   "cell_type": "code",
   "execution_count": 13,
   "id": "d7014f9d-87cc-43ab-a2cb-18d5b949c66f",
   "metadata": {
    "scrolled": true
   },
   "outputs": [],
   "source": [
    "#training set:\n",
    "train_data = []\n",
    "\n",
    "for data in miracl_ru['train']:\n",
    "    for neg in data['negative_passages']:\n",
    "        temp_dict = {}\n",
    "        temp_dict['question'] = data['query']\n",
    "        temp_dict['answer'] = neg['text']\n",
    "        temp_dict['label'] = 0\n",
    "        train_data.append(temp_dict)\n",
    "    for pos in data['positive_passages']:\n",
    "        temp_dict = {}\n",
    "        temp_dict['question'] = data['query']\n",
    "        temp_dict['answer'] = pos['text']\n",
    "        temp_dict['label'] = 1\n",
    "        train_data.append(temp_dict)\n",
    "\n",
    "for data in miracl_en['train']:\n",
    "    for neg in data['negative_passages']:\n",
    "        temp_dict = {}\n",
    "        temp_dict['question'] = data['query']\n",
    "        temp_dict['answer'] = neg['text']\n",
    "        temp_dict['label'] = 0\n",
    "        train_data.append(temp_dict)\n",
    "    for pos in data['positive_passages']:\n",
    "        temp_dict = {}\n",
    "        temp_dict['question'] = data['query']\n",
    "        temp_dict['answer'] = pos['text']\n",
    "        temp_dict['label'] = 1\n",
    "        train_data.append(temp_dict)\n",
    "\n",
    "for data in miracl_es['train']:\n",
    "    for neg in data['negative_passages']:\n",
    "        temp_dict = {}\n",
    "        temp_dict['question'] = data['query']\n",
    "        temp_dict['answer'] = neg['text']\n",
    "        temp_dict['label'] = 0\n",
    "        train_data.append(temp_dict)\n",
    "    for pos in data['positive_passages']:\n",
    "        temp_dict = {}\n",
    "        temp_dict['question'] = data['query']\n",
    "        temp_dict['answer'] = pos['text']\n",
    "        temp_dict['label'] = 1\n",
    "        train_data.append(temp_dict)\n",
    "\n",
    "for data in miracl_fi['train']:\n",
    "    for neg in data['negative_passages']:\n",
    "        temp_dict = {}\n",
    "        temp_dict['question'] = data['query']\n",
    "        temp_dict['answer'] = neg['text']\n",
    "        temp_dict['label'] = 0\n",
    "        train_data.append(temp_dict)\n",
    "    for pos in data['positive_passages']:\n",
    "        temp_dict = {}\n",
    "        temp_dict['question'] = data['query']\n",
    "        temp_dict['answer'] = pos['text']\n",
    "        temp_dict['label'] = 1\n",
    "        train_data.append(temp_dict)\n",
    "\n",
    "for data in miracl_id['train']:\n",
    "    for neg in data['negative_passages']:\n",
    "        temp_dict = {}\n",
    "        temp_dict['question'] = data['query']\n",
    "        temp_dict['answer'] = neg['text']\n",
    "        temp_dict['label'] = 0\n",
    "        train_data.append(temp_dict)\n",
    "    for pos in data['positive_passages']:\n",
    "        temp_dict = {}\n",
    "        temp_dict['question'] = data['query']\n",
    "        temp_dict['answer'] = pos['text']\n",
    "        temp_dict['label'] = 1\n",
    "        train_data.append(temp_dict)\n",
    "\n",
    "shuffle(train_data)"
   ]
  },
  {
   "cell_type": "code",
   "execution_count": 23,
   "id": "018ab495-f774-4fc1-9ad6-c30b4ea51d8c",
   "metadata": {},
   "outputs": [],
   "source": [
    "class QADataset(torch.utils.data.Dataset):\n",
    "    def __init__(self, data, tokenizer, max_length):\n",
    "        self.data = data\n",
    "        self.tokenizer = tokenizer\n",
    "        self.max_length = max_length\n",
    "\n",
    "    def __len__(self):\n",
    "        return len(self.data)\n",
    "\n",
    "    def __getitem__(self, idx):\n",
    "        question = self.data[idx]['question']\n",
    "        answer = self.data[idx]['answer']\n",
    "        label = self.data[idx]['label']\n",
    "\n",
    "        inputs = self.tokenizer(\n",
    "            question, answer, \n",
    "            padding='max_length', \n",
    "            truncation=True, \n",
    "            max_length=self.max_length, \n",
    "            return_tensors=\"pt\"\n",
    "        )\n",
    "\n",
    "        inputs = {key: val.squeeze(0) for key, val in inputs.items()}  # убираем лишнюю размерность\n",
    "        inputs['labels'] = torch.tensor(label, dtype=torch.long)\n",
    "        return inputs\n"
   ]
  },
  {
   "cell_type": "code",
   "execution_count": 24,
   "id": "d317c8c4-5f78-4b93-91a9-6fcb9969ee6b",
   "metadata": {},
   "outputs": [],
   "source": [
    "class QAClassificationModel(pl.LightningModule):\n",
    "    def __init__(self, model_name='bert-base-multilingual-cased', learning_rate=1e-5):\n",
    "        super().__init__()\n",
    "        self.learning_rate = learning_rate\n",
    "        self.save_hyperparameters()\n",
    "        self.scheduler = torch.optim.lr_scheduler.ExponentialLR\n",
    "\n",
    "        # Инициализируем mBERT\n",
    "        self.model = BertForSequenceClassification.from_pretrained(model_name, num_labels=2)\n",
    "\n",
    "        # Настройка LoRA\n",
    "        lora_config = LoraConfig(\n",
    "            task_type=TaskType.SEQ_CLS,\n",
    "            r=32,\n",
    "            lora_alpha=24,\n",
    "            bias=\"all\"\n",
    "        )\n",
    "        self.model = get_peft_model(self.model, lora_config)\n",
    "\n",
    "        # Инициализируем F1-метрику для бинарной классификации\n",
    "        self.f1_metric = F1Score(num_classes=2, average='macro', task='binary')\n",
    "        self.precision_metric = Precision(num_classes=2, task='binary')\n",
    "\n",
    "    def forward(self, input_ids, attention_mask, token_type_ids, labels=None):\n",
    "        return self.model(input_ids=input_ids, attention_mask=attention_mask, token_type_ids=token_type_ids, labels=labels)\n",
    "\n",
    "    def training_step(self, batch, batch_idx):\n",
    "        outputs = self(\n",
    "            input_ids=batch['input_ids'], \n",
    "            attention_mask=batch['attention_mask'], \n",
    "            token_type_ids=batch['token_type_ids'], \n",
    "            labels=batch['labels']\n",
    "        )\n",
    "        loss = outputs.loss\n",
    "        \n",
    "        \n",
    "        self.log('train_loss', loss, prog_bar=True, logger=True)\n",
    "        return loss\n",
    "\n",
    "    def validation_step(self, batch, batch_idx):\n",
    "        outputs = self(\n",
    "            input_ids=batch['input_ids'], \n",
    "            attention_mask=batch['attention_mask'], \n",
    "            token_type_ids=batch['token_type_ids'], \n",
    "            labels=batch['labels']\n",
    "        )\n",
    "        loss = outputs.loss\n",
    "\n",
    "        # Предсказания и реальные значения для расчета метрики\n",
    "        preds = torch.argmax(outputs.logits, dim=1)\n",
    "        labels = batch['labels']\n",
    "        \n",
    "        self.log('val_loss', loss, prog_bar=True, logger=True)\n",
    "        \n",
    "        f1 = self.f1_metric(preds, labels)\n",
    "        self.log('val_f1', f1, prog_bar=True, logger=True)\n",
    "        precision = self.precision_metric(preds, labels)\n",
    "        self.log('val_precision', precision, prog_bar=True, logger=True)\n",
    "\n",
    "        return loss\n",
    "\n",
    "    def configure_optimizers(self):\n",
    "        return torch.optim.AdamW(self.parameters(), lr=self.learning_rate)\n"
   ]
  },
  {
   "cell_type": "code",
   "execution_count": 25,
   "id": "61ab3682-ad21-495b-807d-b2f23e465c34",
   "metadata": {},
   "outputs": [],
   "source": [
    "tokenizer = BertTokenizer.from_pretrained('bert-base-multilingual-cased')\n",
    "train_dataset = QADataset(train_data, tokenizer, max_length=128)\n",
    "train_data_loader = DataLoader(train_dataset, batch_size=128)\n"
   ]
  },
  {
   "cell_type": "code",
   "execution_count": 26,
   "id": "65a61a55-fd41-4142-a509-2fe165f7a5b3",
   "metadata": {},
   "outputs": [],
   "source": [
    "# Инициализируем логгер TensorBoard\n",
    "logger = TensorBoardLogger(\"QA_logs\", name=\"qa_model\")\n",
    "checkpoint_callback = ModelCheckpoint(monitor='val_accuracy', mode='max')\n",
    "\n",
    "trainer = pl.Trainer(\n",
    "    max_epochs=25,\n",
    "    logger=logger,\n",
    "    callbacks=[checkpoint_callback],\n",
    "    accelerator=\"gpu\"\n",
    ")\n",
    "\n",
    "model = QAClassificationModel()\n"
   ]
  },
  {
   "cell_type": "code",
   "execution_count": 27,
   "id": "f5a7ca51-82f4-4ea7-ab94-7743d38b3a97",
   "metadata": {
    "scrolled": true
   },
   "outputs": [
    {
     "data": {
      "application/vnd.jupyter.widget-view+json": {
       "model_id": "f6f723f5bd7b464c87c85b99048e2654",
       "version_major": 2,
       "version_minor": 0
      },
      "text/plain": [
       "Training: |          | 0/? [00:00<?, ?it/s]"
      ]
     },
     "metadata": {},
     "output_type": "display_data"
    }
   ],
   "source": [
    "trainer.fit(model, train_data_loader)"
   ]
  },
  {
   "cell_type": "code",
   "execution_count": 28,
   "id": "46463797-2680-4f77-9e03-9f3dc59ec5f8",
   "metadata": {
    "scrolled": true
   },
   "outputs": [],
   "source": [
    "#training set:\n",
    "val_data = []\n",
    "for data in miracl_ru['dev']:\n",
    "    for neg in data['negative_passages']:\n",
    "        temp_dict = {}\n",
    "        temp_dict['question'] = data['query']\n",
    "        temp_dict['answer'] = neg['text']\n",
    "        temp_dict['label'] = 0\n",
    "        val_data.append(temp_dict)\n",
    "    for pos in data['positive_passages']:\n",
    "        temp_dict = {}\n",
    "        temp_dict['question'] = data['query']\n",
    "        temp_dict['answer'] = pos['text']\n",
    "        temp_dict['label'] = 1\n",
    "        val_data.append(temp_dict)\n",
    "\n",
    "for data in miracl_en['dev']:\n",
    "    for neg in data['negative_passages']:\n",
    "        temp_dict = {}\n",
    "        temp_dict['question'] = data['query']\n",
    "        temp_dict['answer'] = neg['text']\n",
    "        temp_dict['label'] = 0\n",
    "        val_data.append(temp_dict)\n",
    "    for pos in data['positive_passages']:\n",
    "        temp_dict = {}\n",
    "        temp_dict['question'] = data['query']\n",
    "        temp_dict['answer'] = pos['text']\n",
    "        temp_dict['label'] = 1\n",
    "        val_data.append(temp_dict)\n",
    "\n",
    "for data in miracl_es['dev']:\n",
    "    for neg in data['negative_passages']:\n",
    "        temp_dict = {}\n",
    "        temp_dict['question'] = data['query']\n",
    "        temp_dict['answer'] = neg['text']\n",
    "        temp_dict['label'] = 0\n",
    "        val_data.append(temp_dict)\n",
    "    for pos in data['positive_passages']:\n",
    "        temp_dict = {}\n",
    "        temp_dict['question'] = data['query']\n",
    "        temp_dict['answer'] = pos['text']\n",
    "        temp_dict['label'] = 1\n",
    "        val_data.append(temp_dict)\n",
    "\n",
    "for data in miracl_id['dev']:\n",
    "    for neg in data['negative_passages']:\n",
    "        temp_dict = {}\n",
    "        temp_dict['question'] = data['query']\n",
    "        temp_dict['answer'] = neg['text']\n",
    "        temp_dict['label'] = 0\n",
    "        val_data.append(temp_dict)\n",
    "    for pos in data['positive_passages']:\n",
    "        temp_dict = {}\n",
    "        temp_dict['question'] = data['query']\n",
    "        temp_dict['answer'] = pos['text']\n",
    "        temp_dict['label'] = 1\n",
    "        val_data.append(temp_dict)\n",
    "\n",
    "for data in miracl_fi['dev']:\n",
    "    for neg in data['negative_passages']:\n",
    "        temp_dict = {}\n",
    "        temp_dict['question'] = data['query']\n",
    "        temp_dict['answer'] = neg['text']\n",
    "        temp_dict['label'] = 0\n",
    "        val_data.append(temp_dict)\n",
    "    for pos in data['positive_passages']:\n",
    "        temp_dict = {}\n",
    "        temp_dict['question'] = data['query']\n",
    "        temp_dict['answer'] = pos['text']\n",
    "        temp_dict['label'] = 1\n",
    "        val_data.append(temp_dict)\n",
    "\n",
    "shuffle(val_data)"
   ]
  },
  {
   "cell_type": "code",
   "execution_count": 29,
   "id": "7c409797-1891-4df0-8f38-d64ea7da10d0",
   "metadata": {},
   "outputs": [],
   "source": [
    "val_dataset = QADataset(val_data, tokenizer, max_length=128)\n",
    "val_data_loader = DataLoader(val_dataset, batch_size=128)"
   ]
  },
  {
   "cell_type": "code",
   "execution_count": 30,
   "id": "a412f9ed-15b0-4976-85f7-9a18e5092005",
   "metadata": {
    "scrolled": true
   },
   "outputs": [
    {
     "data": {
      "application/vnd.jupyter.widget-view+json": {
       "model_id": "7947edb145a1432b99204713aee6b9d0",
       "version_major": 2,
       "version_minor": 0
      },
      "text/plain": [
       "Validation: |          | 0/? [00:00<?, ?it/s]"
      ]
     },
     "metadata": {},
     "output_type": "display_data"
    },
    {
     "data": {
      "text/html": [
       "<pre style=\"white-space:pre;overflow-x:auto;line-height:normal;font-family:Menlo,'DejaVu Sans Mono',consolas,'Courier New',monospace\">┏━━━━━━━━━━━━━━━━━━━━━━━━━━━┳━━━━━━━━━━━━━━━━━━━━━━━━━━━┓\n",
       "┃<span style=\"font-weight: bold\">      Validate metric      </span>┃<span style=\"font-weight: bold\">       DataLoader 0        </span>┃\n",
       "┡━━━━━━━━━━━━━━━━━━━━━━━━━━━╇━━━━━━━━━━━━━━━━━━━━━━━━━━━┩\n",
       "│<span style=\"color: #008080; text-decoration-color: #008080\">          val_f1           </span>│<span style=\"color: #800080; text-decoration-color: #800080\">    0.5759850740432739     </span>│\n",
       "│<span style=\"color: #008080; text-decoration-color: #008080\">         val_loss          </span>│<span style=\"color: #800080; text-decoration-color: #800080\">    0.46312230825424194    </span>│\n",
       "│<span style=\"color: #008080; text-decoration-color: #008080\">       val_precision       </span>│<span style=\"color: #800080; text-decoration-color: #800080\">    0.6667466759681702     </span>│\n",
       "└───────────────────────────┴───────────────────────────┘\n",
       "</pre>\n"
      ],
      "text/plain": [
       "┏━━━━━━━━━━━━━━━━━━━━━━━━━━━┳━━━━━━━━━━━━━━━━━━━━━━━━━━━┓\n",
       "┃\u001b[1m \u001b[0m\u001b[1m     Validate metric     \u001b[0m\u001b[1m \u001b[0m┃\u001b[1m \u001b[0m\u001b[1m      DataLoader 0       \u001b[0m\u001b[1m \u001b[0m┃\n",
       "┡━━━━━━━━━━━━━━━━━━━━━━━━━━━╇━━━━━━━━━━━━━━━━━━━━━━━━━━━┩\n",
       "│\u001b[36m \u001b[0m\u001b[36m         val_f1          \u001b[0m\u001b[36m \u001b[0m│\u001b[35m \u001b[0m\u001b[35m   0.5759850740432739    \u001b[0m\u001b[35m \u001b[0m│\n",
       "│\u001b[36m \u001b[0m\u001b[36m        val_loss         \u001b[0m\u001b[36m \u001b[0m│\u001b[35m \u001b[0m\u001b[35m   0.46312230825424194   \u001b[0m\u001b[35m \u001b[0m│\n",
       "│\u001b[36m \u001b[0m\u001b[36m      val_precision      \u001b[0m\u001b[36m \u001b[0m│\u001b[35m \u001b[0m\u001b[35m   0.6667466759681702    \u001b[0m\u001b[35m \u001b[0m│\n",
       "└───────────────────────────┴───────────────────────────┘\n"
      ]
     },
     "metadata": {},
     "output_type": "display_data"
    },
    {
     "data": {
      "text/plain": [
       "[{'val_loss': 0.46312230825424194,\n",
       "  'val_f1': 0.5759850740432739,\n",
       "  'val_precision': 0.6667466759681702}]"
      ]
     },
     "execution_count": 30,
     "metadata": {},
     "output_type": "execute_result"
    }
   ],
   "source": [
    "trainer.validate(model, val_data_loader)"
   ]
  },
  {
   "cell_type": "code",
   "execution_count": 31,
   "id": "a06394af-96dd-4c54-b019-8f96bf2c771d",
   "metadata": {},
   "outputs": [
    {
     "name": "stdout",
     "output_type": "stream",
     "text": [
      "  adding: QA_logs/ (stored 0%)\n",
      "  adding: QA_logs/qa_model/ (stored 0%)\n",
      "  adding: QA_logs/qa_model/version_0/ (stored 0%)\n",
      "  adding: QA_logs/qa_model/version_0/events.out.tfevents.1728953375.rentserver.2914.2 (deflated 68%)\n",
      "  adding: QA_logs/qa_model/version_0/hparams.yaml (deflated 3%)\n",
      "  adding: QA_logs/qa_model/version_0/events.out.tfevents.1728976319.rentserver.2914.3 (deflated 28%)\n"
     ]
    }
   ],
   "source": [
    "!zip -r QA_logs.zip QA_logs"
   ]
  },
  {
   "cell_type": "code",
   "execution_count": null,
   "id": "6b157e42-d132-4c2d-a18a-3f5c3b33959b",
   "metadata": {},
   "outputs": [],
   "source": []
  }
 ],
 "metadata": {
  "kernelspec": {
   "display_name": "Python 3",
   "language": "python",
   "name": "python3"
  },
  "language_info": {
   "codemirror_mode": {
    "name": "ipython",
    "version": 3
   },
   "file_extension": ".py",
   "mimetype": "text/x-python",
   "name": "python",
   "nbconvert_exporter": "python",
   "pygments_lexer": "ipython3",
   "version": "3.12.3"
  }
 },
 "nbformat": 4,
 "nbformat_minor": 5
}
